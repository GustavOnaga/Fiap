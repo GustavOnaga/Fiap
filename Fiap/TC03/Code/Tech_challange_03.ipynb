{
  "cells": [
    {
      "cell_type": "markdown",
      "metadata": {
        "id": "cBLtFQ-0FvYA"
      },
      "source": [
        "# **Tech challenge 03**\n",
        "\n",
        "A terceira fase do curso de data analytics apresenta um foco em big query. Dessa forma, visando consolidar os conhecimentos adquiridos nessa fase, iremos **focar em trabalhar com o spark sql**\n",
        "\n",
        "\n"
      ]
    },
    {
      "cell_type": "code",
      "execution_count": 21,
      "metadata": {
        "colab": {
          "base_uri": "https://localhost:8080/"
        },
        "id": "1sE48W6tBai_",
        "outputId": "12d756c9-f8e5-4790-c725-810d0a8e7131"
      },
      "outputs": [
        {
          "output_type": "stream",
          "name": "stdout",
          "text": [
            "Requirement already satisfied: pyspark in /usr/local/lib/python3.12/dist-packages (3.5.1)\n",
            "Requirement already satisfied: py4j==0.10.9.7 in /usr/local/lib/python3.12/dist-packages (from pyspark) (0.10.9.7)\n"
          ]
        }
      ],
      "source": [
        "!pip install pyspark"
      ]
    },
    {
      "cell_type": "code",
      "execution_count": 22,
      "metadata": {
        "id": "yBRYKuW_BnZ3"
      },
      "outputs": [],
      "source": [
        "from pyspark.sql import SparkSession\n",
        "\n",
        "# Criando sessão Spark\n",
        "spark = SparkSession.builder.appName(\"CSV_Colab\").getOrCreate()"
      ]
    },
    {
      "cell_type": "code",
      "execution_count": 23,
      "metadata": {
        "colab": {
          "base_uri": "https://localhost:8080/"
        },
        "collapsed": true,
        "id": "u7Oh4cUsBymz",
        "outputId": "cec84854-076d-490c-b383-38b75558488b"
      },
      "outputs": [
        {
          "output_type": "stream",
          "name": "stdout",
          "text": [
            "+----+---+-------+-------+-----+-----+-----+-----+-------+---------+-----+-----+------+------------+------------+------+----+-----+------+------+------+----+----+----+----+----+-----+-----+----+-----+----+----+-----+-----+-----+-----+-----+-----+-----+-----+-----+------+------+------+------+----+-----+-----+-----+-----+-----+-----+-----+-----+-----+-----+-----+-----+-----+----+----+----+----+-----+-----+-----+-----+-----+-----+-----+-----+-----+-----+-----+-----+----+----+----+----+----+----+-----+-----+-----+----+----+-----+-----+-----+-----+-----+------+------+-----+----+----+-----+----+-----+------+--------+-----+------+------+-----+-----+-----+------+-------+--------+------+-------+-------+----+----+----+----+----+-----+-----+-----+-----+-----+-----+-----+-----+--------+-----+--------+-----+-----+-----+-----+----+-----+-----+-----+-----+----+-----+-----+------+------+------+------+------+-----+----+\n",
            "| Ano| UF|CAPITAL|RM_RIDE|V1008|V1012|V1013|V1016|Estrato|      UPA|V1022|V1023| V1030|       V1031|       V1032|posest|A001|A001A|A001B1|A001B2|A001B3|A002|A003|A004|A005|A006|A006A|A006B|A007|A007A|A008|A009|B0011|B0012|B0013|B0014|B0015|B0016|B0017|B0018|B0019|B00110|B00111|B00112|B00113|B002|B0031|B0032|B0033|B0034|B0035|B0036|B0037|B0041|B0042|B0043|B0044|B0045|B0046|B005|B006|B007|B008|B009A|B009B|B009C|B009D|B009E|B009F|B0101|B0102|B0103|B0104|B0105|B0106|B011|C001|C002|C003|C004|C005|C0051|C0052|C0053|C006|C007|C007A|C007B|C007C|C007D|C007E|C007E1|C007E2|C007F|C008|C009|C009A|C010|C0101|C01011|  C01012|C0102|C01021|C01022|C0103|C0104|C011A|C011A1|C011A11| C011A12|C011A2|C011A21|C011A22|C012|C013|C014|C015|C016|C017A|D0011|D0013|D0021|D0023|D0031|D0033|D0041|   D0043|D0051|   D0053|D0061|D0063|D0071|D0073|E001|E0021|E0022|E0023|E0024|F001|F0021|F0022|F002A1|F002A2|F002A3|F002A4|F002A5|F0061|F006|\n",
            "+----+---+-------+-------+-----+-----+-----+-----+-------+---------+-----+-----+------+------------+------------+------+----+-----+------+------+------+----+----+----+----+----+-----+-----+----+-----+----+----+-----+-----+-----+-----+-----+-----+-----+-----+-----+------+------+------+------+----+-----+-----+-----+-----+-----+-----+-----+-----+-----+-----+-----+-----+-----+----+----+----+----+-----+-----+-----+-----+-----+-----+-----+-----+-----+-----+-----+-----+----+----+----+----+----+----+-----+-----+-----+----+----+-----+-----+-----+-----+-----+------+------+-----+----+----+-----+----+-----+------+--------+-----+------+------+-----+-----+-----+------+-------+--------+------+-------+-------+----+----+----+----+----+-----+-----+-----+-----+-----+-----+-----+-----+--------+-----+--------+-----+-----+-----+-----+----+-----+-----+-----+-----+----+-----+-----+------+------+------+------+------+-----+----+\n",
            "|2020| 11|     11|   NULL|   01|    4|   11|    7|1110011|110015970|    1|    1|152902|101.01170275|117.46371855|  1114|  01|   01|    05|    08|  1984| 036|   1|   4|   5|NULL| NULL| NULL|NULL| NULL|NULL|NULL|    2|    2|    2|    2|    2|    2|    2|    2|    2|     2|     2|     2|     2|NULL| NULL| NULL| NULL| NULL| NULL| NULL| NULL| NULL| NULL| NULL| NULL| NULL| NULL|NULL|NULL|   1|   2| NULL| NULL| NULL| NULL| NULL| NULL|    2|    2|    2|    2|    2|    2|   2|   1|NULL|NULL|NULL|NULL| NULL| NULL| NULL|   2|  04| NULL|    1|   35|   06| NULL|  NULL|  NULL| NULL| 048| 048| NULL|   1|    1|    04|00001045| NULL|  NULL|  NULL| NULL| NULL|    1|     1|     04|00001045|  NULL|   NULL|   NULL|   1|NULL|NULL|NULL|NULL| NULL|    2| NULL|    2| NULL|    2| NULL|    2|    NULL|    1|00000600|    2| NULL|    2| NULL|   3| NULL| NULL| NULL| NULL|   1| NULL| NULL|     1|     1|     1|     2|     1|    1|  01|\n",
            "|2020| 11|     11|   NULL|   01|    4|   11|    7|1110011|110015970|    1|    1|150835|101.01170275|125.75120197|  1124|  02|   02|    18|    08|  1990| 030|   2|   4|   7|NULL| NULL| NULL|NULL| NULL|NULL|NULL|    2|    2|    2|    2|    2|    2|    2|    2|    2|     2|     2|     2|     2|NULL| NULL| NULL| NULL| NULL| NULL| NULL| NULL| NULL| NULL| NULL| NULL| NULL| NULL|NULL|NULL|   2|   2| NULL| NULL| NULL| NULL| NULL| NULL|    2|    2|    2|    2|    2|    2|   2|   1|NULL|NULL|NULL|NULL| NULL| NULL| NULL|   2|  07| NULL| NULL|   27|   20| NULL|  NULL|  NULL| NULL| 036| 036|    2|   1|    1|    04|00001045| NULL|  NULL|  NULL| NULL| NULL|    1|     1|     04|00001045|  NULL|   NULL|   NULL|   1|NULL|   2|NULL|NULL| NULL|    2| NULL|    2| NULL|    2| NULL|    2|    NULL|    1|00000600|    2| NULL|    2| NULL|   3| NULL| NULL| NULL| NULL|   1| NULL| NULL|     1|     1|     1|     2|     1|    1|  01|\n",
            "|2020| 11|     11|   NULL|   01|    4|   11|    7|1110011|110015970|    1|    1|144737|101.01170275|131.36101755|  1112|  03|   04|    25|    12|  2006| 013|   1|   4|   2|   1|    1|    3|   1| NULL|   5|   3|    2|    2|    2|    2|    2|    2|    2|    2|    2|     2|     2|     2|     2|NULL| NULL| NULL| NULL| NULL| NULL| NULL| NULL| NULL| NULL| NULL| NULL| NULL| NULL|NULL|NULL|   1|   2| NULL| NULL| NULL| NULL| NULL| NULL|    2|    2|    2|    2|    2|    2|   4|NULL|NULL|NULL|NULL|NULL| NULL| NULL| NULL|NULL|NULL| NULL| NULL| NULL| NULL| NULL|  NULL|  NULL| NULL|NULL|NULL| NULL|NULL| NULL|  NULL|    NULL| NULL|  NULL|  NULL| NULL| NULL| NULL|  NULL|   NULL|    NULL|  NULL|   NULL|   NULL|NULL|NULL|NULL|NULL|NULL| NULL|    2| NULL|    2| NULL|    2| NULL|    2|    NULL|    1|00000600|    2| NULL|    2| NULL|   3| NULL| NULL| NULL| NULL|   1| NULL| NULL|     1|     1|     1|     2|     1|    1|  01|\n",
            "|2020| 11|     11|   NULL|   01|    4|   11|    7|1110011|110015970|    1|    1|144737|101.01170275|131.36101755|  1112|  04|   04|    24|    08|  2009| 011|   1|   4|   2|   1|    1|    3|   1| NULL|   5|   3|    2|    2|    2|    2|    2|    2|    2|    2|    2|     2|     2|     2|     2|NULL| NULL| NULL| NULL| NULL| NULL| NULL| NULL| NULL| NULL| NULL| NULL| NULL| NULL|NULL|NULL|   1|   2| NULL| NULL| NULL| NULL| NULL| NULL|    2|    2|    2|    2|    2|    2|   4|NULL|NULL|NULL|NULL|NULL| NULL| NULL| NULL|NULL|NULL| NULL| NULL| NULL| NULL| NULL|  NULL|  NULL| NULL|NULL|NULL| NULL|NULL| NULL|  NULL|    NULL| NULL|  NULL|  NULL| NULL| NULL| NULL|  NULL|   NULL|    NULL|  NULL|   NULL|   NULL|NULL|NULL|NULL|NULL|NULL| NULL|    2| NULL|    2| NULL|    2| NULL|    2|    NULL|    1|00000600|    2| NULL|    2| NULL|   3| NULL| NULL| NULL| NULL|   1| NULL| NULL|     1|     1|     1|     2|     1|    1|  01|\n",
            "|2020| 11|     11|   NULL|   02|    1|   11|    7|1110011|110015970|    1|    1| 92377|101.01170275|100.73351653|  1126|  01|   01|    18|    05|  1963| 057|   2|   1|   2|NULL| NULL| NULL|NULL| NULL|NULL|NULL|    2|    2|    2|    2|    2|    2|    2|    2|    2|     2|     2|     2|     2|NULL| NULL| NULL| NULL| NULL| NULL| NULL| NULL| NULL| NULL| NULL| NULL| NULL| NULL|NULL|NULL|   2|   2| NULL| NULL| NULL| NULL| NULL| NULL|    2|    2|    2|    2|    2|    2|   2|   2|   2|NULL|NULL|NULL| NULL| NULL| NULL|NULL|NULL| NULL| NULL| NULL| NULL| NULL|  NULL|  NULL| NULL|NULL|NULL| NULL|NULL| NULL|  NULL|    NULL| NULL|  NULL|  NULL| NULL| NULL| NULL|  NULL|   NULL|    NULL|  NULL|   NULL|   NULL|NULL|NULL|   2|   2|  01|    1|    2| NULL|    2| NULL|    2| NULL|    1|00001045|    2|    NULL|    2| NULL|    2| NULL|   3| NULL| NULL| NULL| NULL|   1| NULL| NULL|     1|     1|     1|     2|     1|    1|  01|\n",
            "+----+---+-------+-------+-----+-----+-----+-----+-------+---------+-----+-----+------+------------+------------+------+----+-----+------+------+------+----+----+----+----+----+-----+-----+----+-----+----+----+-----+-----+-----+-----+-----+-----+-----+-----+-----+------+------+------+------+----+-----+-----+-----+-----+-----+-----+-----+-----+-----+-----+-----+-----+-----+----+----+----+----+-----+-----+-----+-----+-----+-----+-----+-----+-----+-----+-----+-----+----+----+----+----+----+----+-----+-----+-----+----+----+-----+-----+-----+-----+-----+------+------+-----+----+----+-----+----+-----+------+--------+-----+------+------+-----+-----+-----+------+-------+--------+------+-------+-------+----+----+----+----+----+-----+-----+-----+-----+-----+-----+-----+-----+--------+-----+--------+-----+-----+-----+-----+----+-----+-----+-----+-----+----+-----+-----+------+------+------+------+------+-----+----+\n",
            "only showing top 5 rows\n",
            "\n"
          ]
        }
      ],
      "source": [
        "# Se o arquivo estiver em /content\n",
        "df_set = spark.read.csv(\"/content/PNAD_COVID_092020.csv\", header=True, sep =',')\n",
        "df_out = spark.read.csv(\"/content/PNAD_COVID_102020.csv\", header=True, sep =',')\n",
        "df_nov = spark.read.csv(\"/content/PNAD_COVID_112020.csv\", header=True, sep =',')\n",
        "\n",
        "# Ver os primeiros registros\n",
        "df_nov.show(5)"
      ]
    },
    {
      "cell_type": "code",
      "source": [
        "\n",
        "# Registrar o DataFrame como tabela temporária\n",
        "df_set.createOrReplaceTempView(\"pnad_set\")\n",
        "df_out.createOrReplaceTempView(\"pnad_out\")\n",
        "df_nov.createOrReplaceTempView(\"pnad_nov\")"
      ],
      "metadata": {
        "id": "B_tPM90s-Sam"
      },
      "execution_count": 24,
      "outputs": []
    },
    {
      "cell_type": "code",
      "source": [
        "df_nov.show(5)"
      ],
      "metadata": {
        "colab": {
          "base_uri": "https://localhost:8080/"
        },
        "id": "-8MH-r8lFMGf",
        "outputId": "ecb1a017-561c-4d1b-9f64-e927d81b558c"
      },
      "execution_count": 43,
      "outputs": [
        {
          "output_type": "stream",
          "name": "stdout",
          "text": [
            "+----+---+-------+-------+-----+-----+-----+-----+-------+---------+-----+-----+------+------------+------------+------+----+-----+------+------+------+----+----+----+----+----+-----+-----+----+-----+----+----+-----+-----+-----+-----+-----+-----+-----+-----+-----+------+------+------+------+----+-----+-----+-----+-----+-----+-----+-----+-----+-----+-----+-----+-----+-----+----+----+----+----+-----+-----+-----+-----+-----+-----+-----+-----+-----+-----+-----+-----+----+----+----+----+----+----+-----+-----+-----+----+----+-----+-----+-----+-----+-----+------+------+-----+----+----+-----+----+-----+------+--------+-----+------+------+-----+-----+-----+------+-------+--------+------+-------+-------+----+----+----+----+----+-----+-----+-----+-----+-----+-----+-----+-----+--------+-----+--------+-----+-----+-----+-----+----+-----+-----+-----+-----+----+-----+-----+------+------+------+------+------+-----+----+\n",
            "| Ano| UF|CAPITAL|RM_RIDE|V1008|V1012|V1013|V1016|Estrato|      UPA|V1022|V1023| V1030|       V1031|       V1032|posest|A001|A001A|A001B1|A001B2|A001B3|A002|A003|A004|A005|A006|A006A|A006B|A007|A007A|A008|A009|B0011|B0012|B0013|B0014|B0015|B0016|B0017|B0018|B0019|B00110|B00111|B00112|B00113|B002|B0031|B0032|B0033|B0034|B0035|B0036|B0037|B0041|B0042|B0043|B0044|B0045|B0046|B005|B006|B007|B008|B009A|B009B|B009C|B009D|B009E|B009F|B0101|B0102|B0103|B0104|B0105|B0106|B011|C001|C002|C003|C004|C005|C0051|C0052|C0053|C006|C007|C007A|C007B|C007C|C007D|C007E|C007E1|C007E2|C007F|C008|C009|C009A|C010|C0101|C01011|  C01012|C0102|C01021|C01022|C0103|C0104|C011A|C011A1|C011A11| C011A12|C011A2|C011A21|C011A22|C012|C013|C014|C015|C016|C017A|D0011|D0013|D0021|D0023|D0031|D0033|D0041|   D0043|D0051|   D0053|D0061|D0063|D0071|D0073|E001|E0021|E0022|E0023|E0024|F001|F0021|F0022|F002A1|F002A2|F002A3|F002A4|F002A5|F0061|F006|\n",
            "+----+---+-------+-------+-----+-----+-----+-----+-------+---------+-----+-----+------+------------+------------+------+----+-----+------+------+------+----+----+----+----+----+-----+-----+----+-----+----+----+-----+-----+-----+-----+-----+-----+-----+-----+-----+------+------+------+------+----+-----+-----+-----+-----+-----+-----+-----+-----+-----+-----+-----+-----+-----+----+----+----+----+-----+-----+-----+-----+-----+-----+-----+-----+-----+-----+-----+-----+----+----+----+----+----+----+-----+-----+-----+----+----+-----+-----+-----+-----+-----+------+------+-----+----+----+-----+----+-----+------+--------+-----+------+------+-----+-----+-----+------+-------+--------+------+-------+-------+----+----+----+----+----+-----+-----+-----+-----+-----+-----+-----+-----+--------+-----+--------+-----+-----+-----+-----+----+-----+-----+-----+-----+----+-----+-----+------+------+------+------+------+-----+----+\n",
            "|2020| 11|     11|   NULL|   01|    4|   11|    7|1110011|110015970|    1|    1|152902|101.01170275|117.46371855|  1114|  01|   01|    05|    08|  1984| 036|   1|   4|   5|NULL| NULL| NULL|NULL| NULL|NULL|NULL|    2|    2|    2|    2|    2|    2|    2|    2|    2|     2|     2|     2|     2|NULL| NULL| NULL| NULL| NULL| NULL| NULL| NULL| NULL| NULL| NULL| NULL| NULL| NULL|NULL|NULL|   1|   2| NULL| NULL| NULL| NULL| NULL| NULL|    2|    2|    2|    2|    2|    2|   2|   1|NULL|NULL|NULL|NULL| NULL| NULL| NULL|   2|  04| NULL|    1|   35|   06| NULL|  NULL|  NULL| NULL| 048| 048| NULL|   1|    1|    04|00001045| NULL|  NULL|  NULL| NULL| NULL|    1|     1|     04|00001045|  NULL|   NULL|   NULL|   1|NULL|NULL|NULL|NULL| NULL|    2| NULL|    2| NULL|    2| NULL|    2|    NULL|    1|00000600|    2| NULL|    2| NULL|   3| NULL| NULL| NULL| NULL|   1| NULL| NULL|     1|     1|     1|     2|     1|    1|  01|\n",
            "|2020| 11|     11|   NULL|   01|    4|   11|    7|1110011|110015970|    1|    1|150835|101.01170275|125.75120197|  1124|  02|   02|    18|    08|  1990| 030|   2|   4|   7|NULL| NULL| NULL|NULL| NULL|NULL|NULL|    2|    2|    2|    2|    2|    2|    2|    2|    2|     2|     2|     2|     2|NULL| NULL| NULL| NULL| NULL| NULL| NULL| NULL| NULL| NULL| NULL| NULL| NULL| NULL|NULL|NULL|   2|   2| NULL| NULL| NULL| NULL| NULL| NULL|    2|    2|    2|    2|    2|    2|   2|   1|NULL|NULL|NULL|NULL| NULL| NULL| NULL|   2|  07| NULL| NULL|   27|   20| NULL|  NULL|  NULL| NULL| 036| 036|    2|   1|    1|    04|00001045| NULL|  NULL|  NULL| NULL| NULL|    1|     1|     04|00001045|  NULL|   NULL|   NULL|   1|NULL|   2|NULL|NULL| NULL|    2| NULL|    2| NULL|    2| NULL|    2|    NULL|    1|00000600|    2| NULL|    2| NULL|   3| NULL| NULL| NULL| NULL|   1| NULL| NULL|     1|     1|     1|     2|     1|    1|  01|\n",
            "|2020| 11|     11|   NULL|   01|    4|   11|    7|1110011|110015970|    1|    1|144737|101.01170275|131.36101755|  1112|  03|   04|    25|    12|  2006| 013|   1|   4|   2|   1|    1|    3|   1| NULL|   5|   3|    2|    2|    2|    2|    2|    2|    2|    2|    2|     2|     2|     2|     2|NULL| NULL| NULL| NULL| NULL| NULL| NULL| NULL| NULL| NULL| NULL| NULL| NULL| NULL|NULL|NULL|   1|   2| NULL| NULL| NULL| NULL| NULL| NULL|    2|    2|    2|    2|    2|    2|   4|NULL|NULL|NULL|NULL|NULL| NULL| NULL| NULL|NULL|NULL| NULL| NULL| NULL| NULL| NULL|  NULL|  NULL| NULL|NULL|NULL| NULL|NULL| NULL|  NULL|    NULL| NULL|  NULL|  NULL| NULL| NULL| NULL|  NULL|   NULL|    NULL|  NULL|   NULL|   NULL|NULL|NULL|NULL|NULL|NULL| NULL|    2| NULL|    2| NULL|    2| NULL|    2|    NULL|    1|00000600|    2| NULL|    2| NULL|   3| NULL| NULL| NULL| NULL|   1| NULL| NULL|     1|     1|     1|     2|     1|    1|  01|\n",
            "|2020| 11|     11|   NULL|   01|    4|   11|    7|1110011|110015970|    1|    1|144737|101.01170275|131.36101755|  1112|  04|   04|    24|    08|  2009| 011|   1|   4|   2|   1|    1|    3|   1| NULL|   5|   3|    2|    2|    2|    2|    2|    2|    2|    2|    2|     2|     2|     2|     2|NULL| NULL| NULL| NULL| NULL| NULL| NULL| NULL| NULL| NULL| NULL| NULL| NULL| NULL|NULL|NULL|   1|   2| NULL| NULL| NULL| NULL| NULL| NULL|    2|    2|    2|    2|    2|    2|   4|NULL|NULL|NULL|NULL|NULL| NULL| NULL| NULL|NULL|NULL| NULL| NULL| NULL| NULL| NULL|  NULL|  NULL| NULL|NULL|NULL| NULL|NULL| NULL|  NULL|    NULL| NULL|  NULL|  NULL| NULL| NULL| NULL|  NULL|   NULL|    NULL|  NULL|   NULL|   NULL|NULL|NULL|NULL|NULL|NULL| NULL|    2| NULL|    2| NULL|    2| NULL|    2|    NULL|    1|00000600|    2| NULL|    2| NULL|   3| NULL| NULL| NULL| NULL|   1| NULL| NULL|     1|     1|     1|     2|     1|    1|  01|\n",
            "|2020| 11|     11|   NULL|   02|    1|   11|    7|1110011|110015970|    1|    1| 92377|101.01170275|100.73351653|  1126|  01|   01|    18|    05|  1963| 057|   2|   1|   2|NULL| NULL| NULL|NULL| NULL|NULL|NULL|    2|    2|    2|    2|    2|    2|    2|    2|    2|     2|     2|     2|     2|NULL| NULL| NULL| NULL| NULL| NULL| NULL| NULL| NULL| NULL| NULL| NULL| NULL| NULL|NULL|NULL|   2|   2| NULL| NULL| NULL| NULL| NULL| NULL|    2|    2|    2|    2|    2|    2|   2|   2|   2|NULL|NULL|NULL| NULL| NULL| NULL|NULL|NULL| NULL| NULL| NULL| NULL| NULL|  NULL|  NULL| NULL|NULL|NULL| NULL|NULL| NULL|  NULL|    NULL| NULL|  NULL|  NULL| NULL| NULL| NULL|  NULL|   NULL|    NULL|  NULL|   NULL|   NULL|NULL|NULL|   2|   2|  01|    1|    2| NULL|    2| NULL|    2| NULL|    1|00001045|    2|    NULL|    2| NULL|    2| NULL|   3| NULL| NULL| NULL| NULL|   1| NULL| NULL|     1|     1|     1|     2|     1|    1|  01|\n",
            "+----+---+-------+-------+-----+-----+-----+-----+-------+---------+-----+-----+------+------------+------------+------+----+-----+------+------+------+----+----+----+----+----+-----+-----+----+-----+----+----+-----+-----+-----+-----+-----+-----+-----+-----+-----+------+------+------+------+----+-----+-----+-----+-----+-----+-----+-----+-----+-----+-----+-----+-----+-----+----+----+----+----+-----+-----+-----+-----+-----+-----+-----+-----+-----+-----+-----+-----+----+----+----+----+----+----+-----+-----+-----+----+----+-----+-----+-----+-----+-----+------+------+-----+----+----+-----+----+-----+------+--------+-----+------+------+-----+-----+-----+------+-------+--------+------+-------+-------+----+----+----+----+----+-----+-----+-----+-----+-----+-----+-----+-----+--------+-----+--------+-----+-----+-----+-----+----+-----+-----+-----+-----+----+-----+-----+------+------+------+------+------+-----+----+\n",
            "only showing top 5 rows\n",
            "\n"
          ]
        }
      ]
    },
    {
      "cell_type": "code",
      "execution_count": 44,
      "metadata": {
        "id": "ct_D8zu0GHQX",
        "colab": {
          "base_uri": "https://localhost:8080/"
        },
        "outputId": "87f2b8dd-9226-4972-d663-199e1621c7e6"
      },
      "outputs": [
        {
          "output_type": "stream",
          "name": "stdout",
          "text": [
            "+-------------+------+--------+-----+----+---+------------+-----+-----+--------------------+----------+------+------------+----------+---------+----+--------------+-------------+-----------------------+----------------+--------------------------+-----------------------+----------------+-------+------------+\n",
            "|ID_Entrevista|estado|  anoMes|idade|sexo|cor|escolaridade|febre|tosse|dificuldade_respirar|dor_cabeca|fadiga|dor_muscular|planoSaude|Fez_teste|SWAB|resultado_SWAB|coleta_sangue|resultado_coleta_sangue|exame_veia_braco|resultado_exame_veia_braco|Tem_mais_de_um_trabalho|Tipo_de_trabalho|SUS_UPA|Hospital_sus|\n",
            "+-------------+------+--------+-----+----+---+------------+-----+-----+--------------------+----------+------+------------+----------+---------+----+--------------+-------------+-----------------------+----------------+--------------------------+-----------------------+----------------+-------+------------+\n",
            "|           01|    11|set/2020|  036|   1|  4|           5|    2|    2|                   2|         2|     2|           2|         1|        2|NULL|          NULL|         NULL|                   NULL|            NULL|                      NULL|                      2|            NULL|   NULL|        NULL|\n",
            "|           02|    11|set/2020|  030|   2|  4|           7|    2|    2|                   2|         2|     2|           2|         2|        2|NULL|          NULL|         NULL|                   NULL|            NULL|                      NULL|                      2|            NULL|   NULL|        NULL|\n",
            "|           03|    11|set/2020|  013|   1|  4|           2|    2|    2|                   2|         2|     2|           2|         1|        2|NULL|          NULL|         NULL|                   NULL|            NULL|                      NULL|                   NULL|            NULL|   NULL|        NULL|\n",
            "|           04|    11|set/2020|  011|   1|  4|           2|    2|    2|                   2|         2|     2|           2|         1|        2|NULL|          NULL|         NULL|                   NULL|            NULL|                      NULL|                   NULL|            NULL|   NULL|        NULL|\n",
            "|           01|    11|set/2020|  057|   2|  1|           2|    2|    2|                   2|         2|     2|           2|         2|        2|NULL|          NULL|         NULL|                   NULL|            NULL|                      NULL|                   NULL|            NULL|   NULL|        NULL|\n",
            "|           01|    11|set/2020|  058|   2|  2|           1|    2|    2|                   2|         2|     2|           2|         2|        2|NULL|          NULL|         NULL|                   NULL|            NULL|                      NULL|                      2|            NULL|   NULL|        NULL|\n",
            "|           01|    11|set/2020|  047|   1|  4|           2|    2|    2|                   2|         2|     2|           2|         2|        2|NULL|          NULL|         NULL|                   NULL|            NULL|                      NULL|                      2|            NULL|   NULL|        NULL|\n",
            "|           04|    11|set/2020|  018|   2|  4|           2|    2|    2|                   2|         2|     2|           2|         2|        2|NULL|          NULL|         NULL|                   NULL|            NULL|                      NULL|                   NULL|            NULL|   NULL|        NULL|\n",
            "|           07|    11|set/2020|  011|   1|  4|           2|    2|    2|                   2|         2|     2|           2|         2|        2|NULL|          NULL|         NULL|                   NULL|            NULL|                      NULL|                   NULL|            NULL|   NULL|        NULL|\n",
            "|           09|    11|set/2020|  009|   2|  4|           2|    2|    2|                   2|         2|     2|           2|         2|        2|NULL|          NULL|         NULL|                   NULL|            NULL|                      NULL|                   NULL|            NULL|   NULL|        NULL|\n",
            "|           08|    11|set/2020|  010|   1|  4|           2|    2|    2|                   2|         2|     2|           2|         2|        2|NULL|          NULL|         NULL|                   NULL|            NULL|                      NULL|                   NULL|            NULL|   NULL|        NULL|\n",
            "|           03|    11|set/2020|  026|   1|  4|           5|    2|    2|                   2|         2|     2|           2|         2|        2|NULL|          NULL|         NULL|                   NULL|            NULL|                      NULL|                      2|            NULL|   NULL|        NULL|\n",
            "|           06|    11|set/2020|  014|   1|  3|           2|    2|    2|                   2|         2|     2|           2|         2|        2|NULL|          NULL|         NULL|                   NULL|            NULL|                      NULL|                   NULL|            NULL|   NULL|        NULL|\n",
            "|           05|    11|set/2020|  015|   2|  4|           2|    2|    2|                   2|         2|     2|           2|         2|        2|NULL|          NULL|         NULL|                   NULL|            NULL|                      NULL|                   NULL|            NULL|   NULL|        NULL|\n",
            "|           02|    11|set/2020|  033|   2|  4|           2|    2|    2|                   2|         2|     2|           2|         2|        2|NULL|          NULL|         NULL|                   NULL|            NULL|                      NULL|                   NULL|            NULL|   NULL|        NULL|\n",
            "|           01|    11|set/2020|  062|   1|  4|           1|    2|    2|                   2|         2|     2|           2|         2|        2|NULL|          NULL|         NULL|                   NULL|            NULL|                      NULL|                      2|            NULL|   NULL|        NULL|\n",
            "|           02|    11|set/2020|  062|   2|  4|           2|    2|    2|                   2|         2|     2|           2|         2|        2|NULL|          NULL|         NULL|                   NULL|            NULL|                      NULL|                   NULL|            NULL|   NULL|        NULL|\n",
            "|           01|    11|set/2020|  056|   2|  4|           2|    2|    2|                   2|         2|     2|           2|         2|        2|NULL|          NULL|         NULL|                   NULL|            NULL|                      NULL|                   NULL|            NULL|   NULL|        NULL|\n",
            "|           02|    11|set/2020|  053|   1|  2|           2|    2|    2|                   2|         2|     2|           2|         2|        2|NULL|          NULL|         NULL|                   NULL|            NULL|                      NULL|                      2|            NULL|   NULL|        NULL|\n",
            "|           03|    11|set/2020|  017|   2|  1|           4|    2|    2|                   2|         2|     2|           2|         2|        2|NULL|          NULL|         NULL|                   NULL|            NULL|                      NULL|                   NULL|            NULL|   NULL|        NULL|\n",
            "+-------------+------+--------+-----+----+---+------------+-----+-----+--------------------+----------+------+------------+----------+---------+----+--------------+-------------+-----------------------+----------------+--------------------------+-----------------------+----------------+-------+------------+\n",
            "only showing top 20 rows\n",
            "\n"
          ]
        }
      ],
      "source": [
        "# Agrupamento das informações\n",
        "\n",
        "df_set_sql = spark.sql(\"\"\"\n",
        "  SELECT\n",
        "    A001 as ID_Entrevista,\n",
        "    UF as estado,\n",
        "    'set/2020' as anoMes,\n",
        "    A002 as idade,\n",
        "    A003 as sexo,\n",
        "    A004 as cor,\n",
        "    A005 as escolaridade,\n",
        "    B0011 as febre,\n",
        "    B0012 as tosse,\n",
        "    B0014 as dificuldade_respirar,\n",
        "    B0015 as dor_cabeca,\n",
        "    B0019 as fadiga,\n",
        "    B00112 as dor_muscular,\n",
        "    B007 as planoSaude,\n",
        "    B008 as Fez_teste,\n",
        "    B009A as SWAB,\n",
        "    B009B as resultado_SWAB,\n",
        "    B009C as coleta_sangue,\n",
        "    B009D as resultado_coleta_sangue,\n",
        "    B009E as exame_veia_braco,\n",
        "    B009F as resultado_exame_veia_braco,\n",
        "    C006 as Tem_mais_de_um_trabalho,\n",
        "    C013 as Tipo_de_trabalho,\n",
        "    B0042 as SUS_UPA,\n",
        "    B0043 as Hospital_sus\n",
        "  FROM pnad_set\n",
        "\"\"\")\n",
        "\n",
        "df_out_sql = spark.sql(\"\"\"\n",
        "  SELECT\n",
        "    A001 as ID_Entrevista,\n",
        "    UF as estado,\n",
        "    'out/2020' as anoMes,\n",
        "    A002 as idade,\n",
        "    A003 as sexo,\n",
        "    A004 as cor,\n",
        "    A005 as escolaridade,\n",
        "    B0011 as febre,\n",
        "    B0012 as tosse,\n",
        "    B0014 as dificuldade_respirar,\n",
        "    B0015 as dor_cabeca,\n",
        "    B0019 as fadiga,\n",
        "    B00112 as dor_muscular,\n",
        "    B008 as Fez_teste,\n",
        "    B007 as planoSaude,\n",
        "    B009A as SWAB,\n",
        "    B009B as resultado_SWAB,\n",
        "    B009C as coleta_sangue,\n",
        "    B009D as resultado_coleta_sangue,\n",
        "    B009E as exame_veia_braco,\n",
        "    B009F as resultado_exame_veia_braco,\n",
        "    C006 as Tem_mais_de_um_trabalho,\n",
        "    C013 as Tipo_de_trabalho,\n",
        "    B0042 as SUS_UPA,\n",
        "    B0043 as Hospital_sus\n",
        "  FROM pnad_out\n",
        "\"\"\")\n",
        "\n",
        "df_nov_sql = spark.sql(\"\"\"\n",
        "  SELECT\n",
        "    A001 as ID_Entrevista,\n",
        "    UF as estado,\n",
        "    'nov/2020' as anoMes,\n",
        "    A002 as idade,\n",
        "    A003 as sexo,\n",
        "    A004 as cor,\n",
        "    A005 as escolaridade,\n",
        "    B0011 as febre,\n",
        "    B0012 as tosse,\n",
        "    B0014 as dificuldade_respirar,\n",
        "    B0015 as dor_cabeca,\n",
        "    B0019 as fadiga,\n",
        "    B00112 as dor_muscular,\n",
        "    B008 as Fez_teste,\n",
        "    B007 as planoSaude,\n",
        "    B009A as SWAB,\n",
        "    B009B as resultado_SWAB,\n",
        "    B009C as coleta_sangue,\n",
        "    B009D as resultado_coleta_sangue,\n",
        "    B009E as exame_veia_braco,\n",
        "    B009F as resultado_exame_veia_braco,\n",
        "    C006 as Tem_mais_de_um_trabalho,\n",
        "    C013 as Tipo_de_trabalho,\n",
        "    B0042 as SUS_UPA,\n",
        "    B0043 as Hospital_sus\n",
        "  FROM pnad_nov\n",
        "\"\"\")\n",
        "\n",
        "df_set_sql.createOrReplaceTempView(\"df_set_sql\")\n",
        "df_out_sql.createOrReplaceTempView(\"df_out_sql\")\n",
        "df_nov_sql.createOrReplaceTempView(\"df_nov_sql\")\n",
        "\n",
        "df = spark.sql(\"\"\"\n",
        "  SELECT * FROM df_set_sql\n",
        "  UNION ALL\n",
        "  SELECT * FROM df_out_sql\n",
        "  UNION ALL\n",
        "  SELECT * FROM df_nov_sql\n",
        "\"\"\")\n",
        "\n",
        "df.createOrReplaceTempView(\"df\")\n",
        "\n",
        "df.show()"
      ]
    },
    {
      "cell_type": "code",
      "source": [
        "# Normalização dos texto\n",
        "df = spark.sql(\"\"\"\n",
        "  select\n",
        "    id_entrevista,\n",
        "    case\n",
        "      when estado = 11 then 'Rondônia'\n",
        "      when estado = 12 then 'Acre'\n",
        "      when estado = 13 then 'Amazonas'\n",
        "      when estado = 14 then 'Roraima'\n",
        "      when estado = 15 then 'Pará'\n",
        "      when estado = 16 then 'Amapá'\n",
        "      when estado = 17 then 'Tocantins'\n",
        "      when estado = 21 then 'Maranhão'\n",
        "      when estado = 22 then 'Piauí'\n",
        "      when estado = 23 then 'Ceará'\n",
        "      when estado = 24 then 'Rio Grande do Norte'\n",
        "      when estado = 25 then 'Paraíba'\n",
        "      when estado = 26 then 'Pernambuco'\n",
        "      when estado = 27 then 'Alagoas'\n",
        "      when estado = 28 then 'Sergipe'\n",
        "      when estado = 29 then 'Bahia'\n",
        "      when estado = 31 then 'Minas Gerais'\n",
        "      when estado = 32 then 'Espírito Santo'\n",
        "      when estado = 33 then 'Rio de Janeiro'\n",
        "      when estado = 35 then 'São Paulo'\n",
        "      when estado = 41 then 'Paraná'\n",
        "      when estado = 42 then 'Santa Catarina'\n",
        "      when estado = 43 then 'Rio Grande do Sul'\n",
        "      when estado = 50 then 'Mato Grosso do Sul'\n",
        "      when estado = 51 then 'Mato Grosso'\n",
        "      when estado = 52 then 'Goiás'\n",
        "      when estado = 53 then 'Distrito Federal'\n",
        "    end as estado,\n",
        "    case\n",
        "      when estado in (11, 12, 13, 14, 15, 16, 17) then 'Norte'\n",
        "      when estado in (21, 22, 23, 24, 25, 26, 27, 28, 29) then 'Nordeste'\n",
        "      when estado in (31, 32, 33, 35) then 'Sudeste'\n",
        "      when estado in (41, 42, 43) then 'Sul'\n",
        "      when estado in (50, 51, 52, 53) then 'Centro-Oeste'\n",
        "    end as macro_regiao,\n",
        "    anoMes,\n",
        "    idade,\n",
        "    case\n",
        "      when idade between 0 and 9 then '0 - 9 anos'\n",
        "      when idade between 10 and 19 then '10 - 19 anos'\n",
        "      when idade between 20 and 29 then '20 - 29 anos'\n",
        "      when idade between 30 and 39 then '30 - 39 anos'\n",
        "      when idade between 40 and 49 then '40 - 49 anos'\n",
        "      when idade between 50 and 59 then '50 - 59 anos'\n",
        "      when idade between 60 and 69 then '60 - 69 anos'\n",
        "      when idade between 70 and 79 then '70 - 79 anos'\n",
        "      when idade between 80 and 89 then '80 - 89 anos'\n",
        "      when idade between 90 and 99 then '90 - 99 anos'\n",
        "      else 'Acima de 100 anos'\n",
        "    end as faixa_idade,\n",
        "    case\n",
        "      when sexo = 1 then 'masculino'\n",
        "      when sexo = 2 then 'feminino'\n",
        "      else null\n",
        "    end as sexo_texto,\n",
        "    case\n",
        "      when cor = 1 then 'branca'\n",
        "      when cor = 2 then 'preto'\n",
        "      when cor = 3 then 'amarelo'\n",
        "      when cor = 4 then 'parda'\n",
        "      when cor = 5 then 'indigena'\n",
        "      when cor = 9 then 'ignorada'\n",
        "      else null\n",
        "    end as cor_texto,\n",
        "    case\n",
        "      when escolaridade = 1 then 'sem instrução'\n",
        "      when escolaridade = 2 then 'fundamental incompleto'\n",
        "      when escolaridade = 3 then 'fundamental completo'\n",
        "      when escolaridade = 4 then 'médio incompleto'\n",
        "      when escolaridade = 5 then 'médio completo'\n",
        "      when escolaridade = 6 then 'superior incompleto'\n",
        "      when escolaridade = 7 then 'superior completo'\n",
        "      when escolaridade = 8 then 'pós-graduação, mestrado ou doutorado'\n",
        "      else null\n",
        "    end as escolaridade_texto,\n",
        "    case\n",
        "      when febre = 1 then 'Sim'\n",
        "      when febre = 2 then 'Não'\n",
        "      when febre = 3 then 'Não sabe'\n",
        "      when febre = 9 then 'Ignorado'\n",
        "      else 'Ignorado'\n",
        "    end as febre,\n",
        "    case\n",
        "      when tosse = 1 then 'Sim'\n",
        "      when tosse = 2 then 'Não'\n",
        "      when tosse = 3 then 'Não sabe'\n",
        "      when tosse = 9 then 'Ignorado'\n",
        "      else null\n",
        "    end as tosse,\n",
        "    case\n",
        "      when dificuldade_respirar = 1 then 'Sim'\n",
        "      when dificuldade_respirar = 2 then 'Não'\n",
        "      when dificuldade_respirar = 3 then 'Não sabe'\n",
        "      when dificuldade_respirar = 9 then 'Ignorado'\n",
        "      else null\n",
        "    end as dificuldade_respirar,\n",
        "    case\n",
        "      when dor_cabeca = 1 then 'Sim'\n",
        "      when dor_cabeca = 2 then 'Não'\n",
        "      when dor_cabeca = 3 then 'Não sabe'\n",
        "      when dor_cabeca = 9 then 'Ignorado'\n",
        "      else null\n",
        "    end as dor_cabeca,\n",
        "    case\n",
        "      when fadiga = 1 then 'Sim'\n",
        "      when fadiga = 2 then 'Não'\n",
        "      when fadiga = 3 then 'Não sabe'\n",
        "      when fadiga = 9 then 'Ignorado'\n",
        "      else null\n",
        "    end as fadiga,\n",
        "    case\n",
        "      when dor_muscular = 1 then 'Sim'\n",
        "      when dor_muscular = 2 then 'Não'\n",
        "      when dor_muscular = 3 then 'Não sabe'\n",
        "      when dor_muscular = 9 then 'Ignorado'\n",
        "      else null\n",
        "    end as dor_muscular,\n",
        "    case\n",
        "      when Fez_teste = 1 then 'Sim'\n",
        "      when Fez_teste = 2 then 'Não'\n",
        "      when Fez_teste = 9 then 'Ignorado'\n",
        "      else null\n",
        "    end as Fez_teste,\n",
        "    case\n",
        "      when SWAB = 1 then 'Sim'\n",
        "      when SWAB = 2 then 'Não'\n",
        "      when SWAB = 9 then 'Ignorado'\n",
        "      else null\n",
        "    end as SWAB,\n",
        "    case\n",
        "      when resultado_SWAB = 1 then 'Sim'\n",
        "      when resultado_SWAB = 2 then 'Não'\n",
        "      when resultado_SWAB = 3 then 'Inconclusivo'\n",
        "      when resultado_SWAB = 4 then 'Ainda não recebeu o resultado'\n",
        "      when resultado_SWAB = 9 then 'Ignorado'\n",
        "      else null\n",
        "    end as resultado_SWAB,\n",
        "    case\n",
        "      when coleta_sangue = 1 then 'Sim'\n",
        "      when coleta_sangue = 2 then 'Não'\n",
        "      when coleta_sangue = 9 then 'Ignorado'\n",
        "      else null\n",
        "    end as coleta_sangue,\n",
        "    case\n",
        "      when resultado_coleta_sangue = 1 then 'Sim'\n",
        "      when resultado_coleta_sangue = 2 then 'Não'\n",
        "      when resultado_coleta_sangue = 3 then 'Inconclusivo'\n",
        "      when resultado_coleta_sangue = 4 then 'Ainda não recebeu o resultado'\n",
        "      when resultado_coleta_sangue = 9 then 'Ignorado'\n",
        "      else null\n",
        "    end as resultado_coleta_sangue,\n",
        "    case\n",
        "      when exame_veia_braco = 1 then 'Sim'\n",
        "      when exame_veia_braco = 2 then 'Não'\n",
        "      when exame_veia_braco = 9 then 'Ignorado'\n",
        "      else null\n",
        "    end as exame_veia_braco,\n",
        "    case\n",
        "      when resultado_exame_veia_braco = 1 then 'Sim'\n",
        "      when resultado_exame_veia_braco = 2 then 'Não'\n",
        "      when resultado_exame_veia_braco = 3 then 'Inconclusivo'\n",
        "      when resultado_exame_veia_braco = 4 then 'Ainda não recebeu o resultado'\n",
        "      when resultado_exame_veia_braco = 9 then 'Ignorado'\n",
        "      else null\n",
        "    end as resultado_exame_veia_braco,\n",
        "    case\n",
        "      when planoSaude = 1 then 'Sim'\n",
        "      when planoSaude = 2 then 'Não'\n",
        "      when planoSaude = 9 then 'Ignorado'\n",
        "      else null\n",
        "    end as planoSaude,\n",
        "    case\n",
        "      when Tem_mais_de_um_trabalho = 1 then 'Sim'\n",
        "      when Tem_mais_de_um_trabalho = 2 then 'Não'\n",
        "      else 'Não aplicavel'\n",
        "    end as Tem_mais_de_um_trabalho,\n",
        "    case\n",
        "      when Tipo_de_trabalho = 1 then 'Sim'\n",
        "      when Tipo_de_trabalho = 2 then 'Não'\n",
        "      else 'Não aplicavel'\n",
        "    end as Tipo_de_trabalho,\n",
        "    case\n",
        "      when SUS_UPA = 1 then 'Sim'\n",
        "      when SUS_UPA = 2 then 'Não'\n",
        "      else 'Não aplicavel'\n",
        "    end as SUS_UPA,\n",
        "    case\n",
        "      when Hospital_sus = 1 then 'Sim'\n",
        "      when Hospital_sus = 2 then 'Não'\n",
        "      else 'Não aplicavel'\n",
        "    end as Hospital_sus\n",
        "  from df\n",
        "\n",
        "\"\"\")\n",
        "\n",
        "df.createOrReplaceTempView(\"df\")\n",
        "\n",
        "df.show()"
      ],
      "metadata": {
        "id": "JUcioambDW-X",
        "colab": {
          "base_uri": "https://localhost:8080/"
        },
        "outputId": "a7f2266c-c570-4ac4-eb23-33447ca52719"
      },
      "execution_count": 32,
      "outputs": [
        {
          "output_type": "stream",
          "name": "stdout",
          "text": [
            "+-------------+--------+------------+--------+-----+------------+----------+---------+--------------------+-----+-----+--------------------+----------+------+------------+---------+----+--------------+-------------+-----------------------+----------------+--------------------------+----------+-----------------------+----------------+-------------+-------------+\n",
            "|id_entrevista|  estado|macro_regiao|  anoMes|idade| faixa_idade|sexo_texto|cor_texto|  escolaridade_texto|febre|tosse|dificuldade_respirar|dor_cabeca|fadiga|dor_muscular|Fez_teste|SWAB|resultado_SWAB|coleta_sangue|resultado_coleta_sangue|exame_veia_braco|resultado_exame_veia_braco|planoSaude|Tem_mais_de_um_trabalho|Tipo_de_trabalho|      SUS_UPA| Hospital_sus|\n",
            "+-------------+--------+------------+--------+-----+------------+----------+---------+--------------------+-----+-----+--------------------+----------+------+------------+---------+----+--------------+-------------+-----------------------+----------------+--------------------------+----------+-----------------------+----------------+-------------+-------------+\n",
            "|           01|Rondônia|       Norte|set/2020|  036|30 - 39 anos| masculino|    parda|      médio completo|  Não|  Não|                 Não|       Não|   Não|         Não|      Não|NULL|          NULL|         NULL|                   NULL|            NULL|                      NULL|       Sim|                    Não|   Não aplicavel|Não aplicavel|Não aplicavel|\n",
            "|           02|Rondônia|       Norte|set/2020|  030|30 - 39 anos|  feminino|    parda|   superior completo|  Não|  Não|                 Não|       Não|   Não|         Não|      Não|NULL|          NULL|         NULL|                   NULL|            NULL|                      NULL|       Não|                    Não|   Não aplicavel|Não aplicavel|Não aplicavel|\n",
            "|           03|Rondônia|       Norte|set/2020|  013|10 - 19 anos| masculino|    parda|fundamental incom...|  Não|  Não|                 Não|       Não|   Não|         Não|      Não|NULL|          NULL|         NULL|                   NULL|            NULL|                      NULL|       Sim|          Não aplicavel|   Não aplicavel|Não aplicavel|Não aplicavel|\n",
            "|           04|Rondônia|       Norte|set/2020|  011|10 - 19 anos| masculino|    parda|fundamental incom...|  Não|  Não|                 Não|       Não|   Não|         Não|      Não|NULL|          NULL|         NULL|                   NULL|            NULL|                      NULL|       Sim|          Não aplicavel|   Não aplicavel|Não aplicavel|Não aplicavel|\n",
            "|           01|Rondônia|       Norte|set/2020|  057|50 - 59 anos|  feminino|   branca|fundamental incom...|  Não|  Não|                 Não|       Não|   Não|         Não|      Não|NULL|          NULL|         NULL|                   NULL|            NULL|                      NULL|       Não|          Não aplicavel|   Não aplicavel|Não aplicavel|Não aplicavel|\n",
            "|           01|Rondônia|       Norte|set/2020|  058|50 - 59 anos|  feminino|    preto|       sem instrução|  Não|  Não|                 Não|       Não|   Não|         Não|      Não|NULL|          NULL|         NULL|                   NULL|            NULL|                      NULL|       Não|                    Não|   Não aplicavel|Não aplicavel|Não aplicavel|\n",
            "|           01|Rondônia|       Norte|set/2020|  047|40 - 49 anos| masculino|    parda|fundamental incom...|  Não|  Não|                 Não|       Não|   Não|         Não|      Não|NULL|          NULL|         NULL|                   NULL|            NULL|                      NULL|       Não|                    Não|   Não aplicavel|Não aplicavel|Não aplicavel|\n",
            "|           04|Rondônia|       Norte|set/2020|  018|10 - 19 anos|  feminino|    parda|fundamental incom...|  Não|  Não|                 Não|       Não|   Não|         Não|      Não|NULL|          NULL|         NULL|                   NULL|            NULL|                      NULL|       Não|          Não aplicavel|   Não aplicavel|Não aplicavel|Não aplicavel|\n",
            "|           07|Rondônia|       Norte|set/2020|  011|10 - 19 anos| masculino|    parda|fundamental incom...|  Não|  Não|                 Não|       Não|   Não|         Não|      Não|NULL|          NULL|         NULL|                   NULL|            NULL|                      NULL|       Não|          Não aplicavel|   Não aplicavel|Não aplicavel|Não aplicavel|\n",
            "|           09|Rondônia|       Norte|set/2020|  009|  0 - 9 anos|  feminino|    parda|fundamental incom...|  Não|  Não|                 Não|       Não|   Não|         Não|      Não|NULL|          NULL|         NULL|                   NULL|            NULL|                      NULL|       Não|          Não aplicavel|   Não aplicavel|Não aplicavel|Não aplicavel|\n",
            "|           08|Rondônia|       Norte|set/2020|  010|10 - 19 anos| masculino|    parda|fundamental incom...|  Não|  Não|                 Não|       Não|   Não|         Não|      Não|NULL|          NULL|         NULL|                   NULL|            NULL|                      NULL|       Não|          Não aplicavel|   Não aplicavel|Não aplicavel|Não aplicavel|\n",
            "|           03|Rondônia|       Norte|set/2020|  026|20 - 29 anos| masculino|    parda|      médio completo|  Não|  Não|                 Não|       Não|   Não|         Não|      Não|NULL|          NULL|         NULL|                   NULL|            NULL|                      NULL|       Não|                    Não|   Não aplicavel|Não aplicavel|Não aplicavel|\n",
            "|           06|Rondônia|       Norte|set/2020|  014|10 - 19 anos| masculino|  amarelo|fundamental incom...|  Não|  Não|                 Não|       Não|   Não|         Não|      Não|NULL|          NULL|         NULL|                   NULL|            NULL|                      NULL|       Não|          Não aplicavel|   Não aplicavel|Não aplicavel|Não aplicavel|\n",
            "|           05|Rondônia|       Norte|set/2020|  015|10 - 19 anos|  feminino|    parda|fundamental incom...|  Não|  Não|                 Não|       Não|   Não|         Não|      Não|NULL|          NULL|         NULL|                   NULL|            NULL|                      NULL|       Não|          Não aplicavel|   Não aplicavel|Não aplicavel|Não aplicavel|\n",
            "|           02|Rondônia|       Norte|set/2020|  033|30 - 39 anos|  feminino|    parda|fundamental incom...|  Não|  Não|                 Não|       Não|   Não|         Não|      Não|NULL|          NULL|         NULL|                   NULL|            NULL|                      NULL|       Não|          Não aplicavel|   Não aplicavel|Não aplicavel|Não aplicavel|\n",
            "|           01|Rondônia|       Norte|set/2020|  062|60 - 69 anos| masculino|    parda|       sem instrução|  Não|  Não|                 Não|       Não|   Não|         Não|      Não|NULL|          NULL|         NULL|                   NULL|            NULL|                      NULL|       Não|                    Não|   Não aplicavel|Não aplicavel|Não aplicavel|\n",
            "|           02|Rondônia|       Norte|set/2020|  062|60 - 69 anos|  feminino|    parda|fundamental incom...|  Não|  Não|                 Não|       Não|   Não|         Não|      Não|NULL|          NULL|         NULL|                   NULL|            NULL|                      NULL|       Não|          Não aplicavel|   Não aplicavel|Não aplicavel|Não aplicavel|\n",
            "|           01|Rondônia|       Norte|set/2020|  056|50 - 59 anos|  feminino|    parda|fundamental incom...|  Não|  Não|                 Não|       Não|   Não|         Não|      Não|NULL|          NULL|         NULL|                   NULL|            NULL|                      NULL|       Não|          Não aplicavel|   Não aplicavel|Não aplicavel|Não aplicavel|\n",
            "|           02|Rondônia|       Norte|set/2020|  053|50 - 59 anos| masculino|    preto|fundamental incom...|  Não|  Não|                 Não|       Não|   Não|         Não|      Não|NULL|          NULL|         NULL|                   NULL|            NULL|                      NULL|       Não|                    Não|   Não aplicavel|Não aplicavel|Não aplicavel|\n",
            "|           03|Rondônia|       Norte|set/2020|  017|10 - 19 anos|  feminino|   branca|    médio incompleto|  Não|  Não|                 Não|       Não|   Não|         Não|      Não|NULL|          NULL|         NULL|                   NULL|            NULL|                      NULL|       Não|          Não aplicavel|   Não aplicavel|Não aplicavel|Não aplicavel|\n",
            "+-------------+--------+------------+--------+-----+------------+----------+---------+--------------------+-----+-----+--------------------+----------+------+------------+---------+----+--------------+-------------+-----------------------+----------------+--------------------------+----------+-----------------------+----------------+-------------+-------------+\n",
            "only showing top 20 rows\n",
            "\n"
          ]
        }
      ]
    },
    {
      "cell_type": "code",
      "source": [
        "df_final = spark.sql(\"\"\"\n",
        "  select\n",
        "    estado,\n",
        "    macro_regiao,\n",
        "    anoMes,\n",
        "    idade,\n",
        "    faixa_idade,\n",
        "    sexo_texto,\n",
        "    cor_texto,\n",
        "    escolaridade_texto,\n",
        "    febre,\n",
        "    tosse,\n",
        "    dificuldade_respirar,\n",
        "    dor_cabeca,\n",
        "    fadiga,\n",
        "    dor_muscular,\n",
        "    Fez_teste,\n",
        "    SWAB,\n",
        "    resultado_SWAB,\n",
        "    coleta_sangue,\n",
        "    resultado_coleta_sangue,\n",
        "    exame_veia_braco,\n",
        "    resultado_exame_veia_braco,\n",
        "    planoSaude,\n",
        "    Tem_mais_de_um_trabalho,\n",
        "    Tipo_de_trabalho,\n",
        "    SUS_UPA,\n",
        "    Hospital_sus,\n",
        "    count(id_entrevista) as quantidade_entrevistados\n",
        "  from df\n",
        "  group by all\n",
        "  \"\"\")\n",
        "\n",
        "df_final.show()"
      ],
      "metadata": {
        "id": "oOobe3Fb7MAV",
        "colab": {
          "base_uri": "https://localhost:8080/"
        },
        "outputId": "093e2577-5b28-4022-b2f7-7cc961c210fd"
      },
      "execution_count": 34,
      "outputs": [
        {
          "output_type": "stream",
          "name": "stdout",
          "text": [
            "+----------+------------+--------+-----+------------+----------+---------+--------------------+-----+-----+--------------------+----------+------+------------+---------+----+--------------+-------------+-----------------------+----------------+--------------------------+----------+-----------------------+----------------+-------------+-------------+------------------------+\n",
            "|    estado|macro_regiao|  anoMes|idade| faixa_idade|sexo_texto|cor_texto|  escolaridade_texto|febre|tosse|dificuldade_respirar|dor_cabeca|fadiga|dor_muscular|Fez_teste|SWAB|resultado_SWAB|coleta_sangue|resultado_coleta_sangue|exame_veia_braco|resultado_exame_veia_braco|planoSaude|Tem_mais_de_um_trabalho|Tipo_de_trabalho|      SUS_UPA| Hospital_sus|quantidade_entrevistados|\n",
            "+----------+------------+--------+-----+------------+----------+---------+--------------------+-----+-----+--------------------+----------+------+------------+---------+----+--------------+-------------+-----------------------+----------------+--------------------------+----------+-----------------------+----------------+-------------+-------------+------------------------+\n",
            "|Pernambuco|    Nordeste|set/2020|  019|10 - 19 anos|  feminino|   branca|fundamental incom...|  Não|  Não|                 Não|       Não|   Não|         Não|      Sim| Sim|           Não|          Sim|                    Não|             Sim|                       Não|       Não|          Não aplicavel|   Não aplicavel|Não aplicavel|Não aplicavel|                       1|\n",
            "|  Rondônia|       Norte|set/2020|  040|40 - 49 anos| masculino|    parda|      médio completo|  Não|  Não|                 Não|       Não|   Não|         Não|      Não|NULL|          NULL|         NULL|                   NULL|            NULL|                      NULL|       Não|          Não aplicavel|   Não aplicavel|Não aplicavel|Não aplicavel|                       2|\n",
            "|  Rondônia|       Norte|set/2020|  036|30 - 39 anos|  feminino|    parda|      médio completo|  Não|  Não|                 Não|       Não|   Não|         Não|      Não|NULL|          NULL|         NULL|                   NULL|            NULL|                      NULL|       Não|                    Não|   Não aplicavel|Não aplicavel|Não aplicavel|                       2|\n",
            "|  Rondônia|       Norte|set/2020|  043|40 - 49 anos|  feminino|    parda|   superior completo|  Não|  Não|                 Não|       Não|   Não|         Não|      Sim| Não|          NULL|          Sim|                    Não|             Não|                      NULL|       Não|          Não aplicavel|   Não aplicavel|Não aplicavel|Não aplicavel|                       1|\n",
            "|  Rondônia|       Norte|set/2020|  032|30 - 39 anos| masculino|    parda| superior incompleto|  Não|  Não|                 Não|       Não|   Não|         Não|      Não|NULL|          NULL|         NULL|                   NULL|            NULL|                      NULL|       Não|                    Sim|   Não aplicavel|Não aplicavel|Não aplicavel|                       1|\n",
            "|  Rondônia|       Norte|set/2020|  002|  0 - 9 anos|  feminino|    preto|       sem instrução|  Não|  Não|                 Não|       Não|   Não|         Não|      Não|NULL|          NULL|         NULL|                   NULL|            NULL|                      NULL|       Não|          Não aplicavel|   Não aplicavel|Não aplicavel|Não aplicavel|                       1|\n",
            "|  Rondônia|       Norte|set/2020|  040|40 - 49 anos|  feminino|    preto|      médio completo|  Não|  Não|                 Não|       Não|   Não|         Não|      Não|NULL|          NULL|         NULL|                   NULL|            NULL|                      NULL|       Não|          Não aplicavel|   Não aplicavel|Não aplicavel|Não aplicavel|                       1|\n",
            "|  Rondônia|       Norte|set/2020|  043|40 - 49 anos| masculino|    parda|fundamental incom...|  Não|  Não|                 Não|       Não|   Não|         Não|      Não|NULL|          NULL|         NULL|                   NULL|            NULL|                      NULL|       Não|          Não aplicavel|   Não aplicavel|Não aplicavel|Não aplicavel|                       1|\n",
            "|  Rondônia|       Norte|set/2020|  065|60 - 69 anos|  feminino|  amarelo|fundamental incom...|  Não|  Não|                 Não|       Não|   Não|         Não|      Não|NULL|          NULL|         NULL|                   NULL|            NULL|                      NULL|       Não|                    Não|   Não aplicavel|Não aplicavel|Não aplicavel|                       1|\n",
            "|  Rondônia|       Norte|set/2020|  045|40 - 49 anos|  feminino|    preto|   superior completo|  Não|  Não|                 Não|       Não|   Não|         Não|      Não|NULL|          NULL|         NULL|                   NULL|            NULL|                      NULL|       Não|                    Não|   Não aplicavel|Não aplicavel|Não aplicavel|                       1|\n",
            "|  Rondônia|       Norte|set/2020|  066|60 - 69 anos| masculino|    parda|       sem instrução|  Não|  Não|                 Não|       Não|   Não|         Não|      Não|NULL|          NULL|         NULL|                   NULL|            NULL|                      NULL|       Não|          Não aplicavel|   Não aplicavel|Não aplicavel|Não aplicavel|                       1|\n",
            "|  Rondônia|       Norte|set/2020|  033|30 - 39 anos|  feminino|   branca|   superior completo|  Não|  Não|                 Não|       Não|   Não|         Não|      Sim| Não|          NULL|          Sim|                    Não|             Não|                      NULL|       Não|                    Não|   Não aplicavel|Não aplicavel|Não aplicavel|                       1|\n",
            "|  Rondônia|       Norte|set/2020|  033|30 - 39 anos| masculino|    preto|      médio completo|  Não|  Não|                 Não|       Não|   Não|         Não|      Não|NULL|          NULL|         NULL|                   NULL|            NULL|                      NULL|       Não|                    Sim|   Não aplicavel|Não aplicavel|Não aplicavel|                       1|\n",
            "|  Rondônia|       Norte|set/2020|  026|20 - 29 anos|  feminino|    parda|      médio completo|  Não|  Não|                 Não|       Não|   Não|         Não|      Não|NULL|          NULL|         NULL|                   NULL|            NULL|                      NULL|       Não|                    Sim|   Não aplicavel|Não aplicavel|Não aplicavel|                       1|\n",
            "|      Acre|       Norte|set/2020|  021|20 - 29 anos|  feminino|    parda| superior incompleto|  Não|  Não|                 Não|       Não|   Não|         Não|      Não|NULL|          NULL|         NULL|                   NULL|            NULL|                      NULL|       Sim|          Não aplicavel|   Não aplicavel|Não aplicavel|Não aplicavel|                       2|\n",
            "|      Acre|       Norte|set/2020|  038|30 - 39 anos| masculino|    preto| superior incompleto|  Não|  Não|                 Não|       Não|   Não|         Não|      Sim| Sim|           Sim|          Não|                   NULL|             Não|                      NULL|       Não|                    Não|   Não aplicavel|Não aplicavel|Não aplicavel|                       1|\n",
            "|      Acre|       Norte|set/2020|  027|20 - 29 anos|  feminino|    preto|fundamental completo|  Não|  Não|                 Não|       Não|   Não|         Não|      Não|NULL|          NULL|         NULL|                   NULL|            NULL|                      NULL|       Não|          Não aplicavel|   Não aplicavel|Não aplicavel|Não aplicavel|                       1|\n",
            "|      Acre|       Norte|set/2020|  031|30 - 39 anos| masculino|    parda|   superior completo|  Não|  Não|                 Não|       Não|   Não|         Não|      Não|NULL|          NULL|         NULL|                   NULL|            NULL|                      NULL|       Sim|                    Não|   Não aplicavel|Não aplicavel|Não aplicavel|                       1|\n",
            "|  Amazonas|       Norte|set/2020|  067|60 - 69 anos| masculino|    parda|fundamental completo|  Não|  Não|                 Não|       Não|   Não|         Não|      Não|NULL|          NULL|         NULL|                   NULL|            NULL|                      NULL|       Não|                    Não|   Não aplicavel|Não aplicavel|Não aplicavel|                       1|\n",
            "|  Amazonas|       Norte|set/2020|  057|50 - 59 anos|  feminino|   branca|    médio incompleto|  Não|  Não|                 Não|       Não|   Não|         Não|      Não|NULL|          NULL|         NULL|                   NULL|            NULL|                      NULL|       Não|                    Não|   Não aplicavel|Não aplicavel|Não aplicavel|                       1|\n",
            "+----------+------------+--------+-----+------------+----------+---------+--------------------+-----+-----+--------------------+----------+------+------------+---------+----+--------------+-------------+-----------------------+----------------+--------------------------+----------+-----------------------+----------------+-------------+-------------+------------------------+\n",
            "only showing top 20 rows\n",
            "\n"
          ]
        }
      ]
    },
    {
      "cell_type": "code",
      "source": [
        "# df.write.csv(\"/content/Base.csv\", header=True)\n",
        "df_final.coalesce(1).write.mode(\"overwrite\").csv(\"/content/Base.csv\", header=True)"
      ],
      "metadata": {
        "id": "JJAjysun59Fc"
      },
      "execution_count": 35,
      "outputs": []
    },
    {
      "cell_type": "code",
      "execution_count": 36,
      "metadata": {
        "id": "33-X81fZDAt9",
        "colab": {
          "base_uri": "https://localhost:8080/"
        },
        "outputId": "df8663db-3824-4d63-e62d-591b64e5a83c"
      },
      "outputs": [
        {
          "output_type": "stream",
          "name": "stdout",
          "text": [
            "+-------------------+\n",
            "|Total_entrevistados|\n",
            "+-------------------+\n",
            "|            1149197|\n",
            "+-------------------+\n",
            "\n"
          ]
        }
      ],
      "source": [
        "total_pessoas = spark.sql(\"\"\"\n",
        "    SELECT count(ID_Entrevista) as Total_entrevistados\n",
        "    FROM df\n",
        "    \"\"\")\n",
        "\n",
        "total_pessoas.show()"
      ]
    },
    {
      "cell_type": "code",
      "execution_count": 37,
      "metadata": {
        "collapsed": true,
        "id": "o56YoLMZMP8c",
        "colab": {
          "base_uri": "https://localhost:8080/"
        },
        "outputId": "0c5b1271-4660-4d26-a1cc-5b899b547a79"
      },
      "outputs": [
        {
          "output_type": "stream",
          "name": "stdout",
          "text": [
            "+-----------------+-------------------+----------+--------------------+\n",
            "|      faixa_idade|total_entrevistados|percentual|percentual_acumulado|\n",
            "+-----------------+-------------------+----------+--------------------+\n",
            "|       0 - 9 anos|             135872|     11.82|               11.82|\n",
            "|     10 - 19 anos|             169782|     14.77|                26.6|\n",
            "|     20 - 29 anos|             156811|     13.65|               40.24|\n",
            "|     30 - 39 anos|             168787|     14.69|               54.93|\n",
            "|     40 - 49 anos|             164350|      14.3|               69.23|\n",
            "|     50 - 59 anos|             151259|     13.16|               82.39|\n",
            "|     60 - 69 anos|             112291|      9.77|               92.16|\n",
            "|     70 - 79 anos|              60819|      5.29|               97.46|\n",
            "|     80 - 89 anos|              24155|       2.1|               99.56|\n",
            "|     90 - 99 anos|               4790|      0.42|               99.98|\n",
            "|Acima de 100 anos|                281|      0.02|               100.0|\n",
            "+-----------------+-------------------+----------+--------------------+\n",
            "\n"
          ]
        }
      ],
      "source": [
        "metrica = spark.sql(\"\"\"\n",
        "  with cte as (\n",
        "    select\n",
        "      faixa_idade,\n",
        "      count(id_entrevista) as total_entrevistados\n",
        "    from df\n",
        "    group by faixa_idade\n",
        "  )\n",
        "  select\n",
        "    faixa_idade,\n",
        "    total_entrevistados,\n",
        "    round((total_entrevistados / sum(total_entrevistados) over()) * 100, 2) as percentual,\n",
        "    round(\n",
        "      sum(total_entrevistados) over(order by faixa_idade asc)\n",
        "      / sum(total_entrevistados) over() * 100,\n",
        "      2\n",
        "    ) as percentual_acumulado\n",
        "  from cte\n",
        "  order by faixa_idade asc\n",
        "    \"\"\")\n",
        "\n",
        "metrica.show()"
      ]
    },
    {
      "cell_type": "code",
      "execution_count": 38,
      "metadata": {
        "id": "MmRDYyzgGAms",
        "colab": {
          "base_uri": "https://localhost:8080/"
        },
        "outputId": "7be9a175-59ea-49e0-e14c-73d7ad0ae378"
      },
      "outputs": [
        {
          "output_type": "stream",
          "name": "stdout",
          "text": [
            "+----------+-------------------+----------+\n",
            "|sexo_texto|Total_entrevistados|Percentual|\n",
            "+----------+-------------------+----------+\n",
            "| masculino|             550656|     47.92|\n",
            "|  feminino|             598541|     52.08|\n",
            "+----------+-------------------+----------+\n",
            "\n"
          ]
        }
      ],
      "source": [
        "metrica = spark.sql(\"\"\"\n",
        "    with cte as(\n",
        "      select\n",
        "        sexo_texto,\n",
        "        count(ID_Entrevista) as Total_entrevistados\n",
        "      from df\n",
        "      group by sexo_texto\n",
        "    )\n",
        "\n",
        "    select\n",
        "      sexo_texto,\n",
        "      Total_entrevistados,\n",
        "      round((Total_entrevistados / (sum(Total_entrevistados) OVER()))*100,2) as Percentual\n",
        "    from cte\n",
        "    \"\"\")\n",
        "\n",
        "metrica.show()"
      ]
    },
    {
      "cell_type": "code",
      "execution_count": 39,
      "metadata": {
        "id": "7NL-U2GKhplI",
        "colab": {
          "base_uri": "https://localhost:8080/"
        },
        "outputId": "2544eedf-dcf9-4749-9d56-d7e8c6709ea4"
      },
      "outputs": [
        {
          "output_type": "stream",
          "name": "stdout",
          "text": [
            "+---------+-------------------+----------+\n",
            "|cor_texto|Total_entrevistados|Percentual|\n",
            "+---------+-------------------+----------+\n",
            "|  amarelo|               6738|      0.59|\n",
            "|   branca|             479955|     41.76|\n",
            "| ignorada|                274|      0.02|\n",
            "| indigena|               4480|      0.39|\n",
            "|    parda|             563304|     49.02|\n",
            "|    preto|              94446|      8.22|\n",
            "+---------+-------------------+----------+\n",
            "\n"
          ]
        }
      ],
      "source": [
        "cor = spark.sql(\"\"\"\n",
        "with cte as(\n",
        "  select\n",
        "    cor_texto,\n",
        "    count(ID_Entrevista) as Total_entrevistados\n",
        "  from df\n",
        "  group by cor_texto)\n",
        "\n",
        "select\n",
        "  cor_texto,\n",
        "  Total_entrevistados,\n",
        "  round((Total_entrevistados / (sum(Total_entrevistados) OVER()))*100,2) as Percentual\n",
        "from cte\n",
        "order by cor_texto asc\n",
        "\n",
        "\"\"\")\n",
        "\n",
        "cor.show()"
      ]
    },
    {
      "cell_type": "code",
      "execution_count": 40,
      "metadata": {
        "id": "BVFhr33_k_I7",
        "colab": {
          "base_uri": "https://localhost:8080/"
        },
        "outputId": "aba718ae-f9e7-4759-ece8-e68ffdfcc41b"
      },
      "outputs": [
        {
          "output_type": "stream",
          "name": "stdout",
          "text": [
            "+--------------------+-------------------+----------+\n",
            "|  escolaridade_texto|Total_entrevistados|Percentual|\n",
            "+--------------------+-------------------+----------+\n",
            "|fundamental completo|              76092|      6.62|\n",
            "|fundamental incom...|             387986|     33.76|\n",
            "|      médio completo|             256040|     22.28|\n",
            "|    médio incompleto|             107635|      9.37|\n",
            "|pós-graduação, me...|              30290|      2.64|\n",
            "|       sem instrução|             124035|     10.79|\n",
            "|   superior completo|             107441|      9.35|\n",
            "| superior incompleto|              59678|      5.19|\n",
            "+--------------------+-------------------+----------+\n",
            "\n"
          ]
        }
      ],
      "source": [
        "escolaridade = spark.sql(\"\"\"\n",
        "with cte as(\n",
        "  select\n",
        "    escolaridade_texto,\n",
        "    count(ID_Entrevista) as Total_entrevistados\n",
        "  from df\n",
        "  group by all)\n",
        "\n",
        "select\n",
        "  escolaridade_texto,\n",
        "  Total_entrevistados,\n",
        "  round((Total_entrevistados / (sum(Total_entrevistados) OVER()))*100,2) as Percentual\n",
        "from cte\n",
        "order by escolaridade_texto asc\n",
        "\n",
        "\"\"\")\n",
        "\n",
        "escolaridade.show()"
      ]
    },
    {
      "cell_type": "code",
      "source": [
        "metrica = spark.sql(\"\"\"\n",
        "  select\n",
        "    tosse,\n",
        "    count(ID_Entrevista) as Total_entrevistados\n",
        "  from df\n",
        "  group by tosse\n",
        "\"\"\")\n",
        "\n",
        "metrica.show()"
      ],
      "metadata": {
        "id": "Uz5w3Ol-Fr6p",
        "colab": {
          "base_uri": "https://localhost:8080/"
        },
        "outputId": "10618b16-8620-48f2-e4b4-fa17a0172441"
      },
      "execution_count": 41,
      "outputs": [
        {
          "output_type": "stream",
          "name": "stdout",
          "text": [
            "+--------+-------------------+\n",
            "|   tosse|Total_entrevistados|\n",
            "+--------+-------------------+\n",
            "|Ignorado|               3549|\n",
            "|     Não|            1129630|\n",
            "|     Sim|              15373|\n",
            "|Não sabe|                645|\n",
            "+--------+-------------------+\n",
            "\n"
          ]
        }
      ]
    },
    {
      "cell_type": "code",
      "source": [
        "metrica = spark.sql(\"\"\"\n",
        "select\n",
        "  anomes,\n",
        "  tosse,\n",
        "  count(id_entrevista) as total_entrevistados,\n",
        "  sum(count(id_entrevista)) over(partition by anomes) as total_mes,\n",
        "  round(\n",
        "    count(id_entrevista) * 100.0 / sum(count(id_entrevista)) over(partition by anomes),\n",
        "    2\n",
        "  ) as percentual\n",
        "from df\n",
        "group by all\n",
        "order by all\n",
        "\"\"\")\n",
        "\n",
        "metrica.show()"
      ],
      "metadata": {
        "id": "_DcRqedAKaP4",
        "colab": {
          "base_uri": "https://localhost:8080/"
        },
        "outputId": "1be03193-5007-4ec1-8f89-cc4db9cffd96"
      },
      "execution_count": 42,
      "outputs": [
        {
          "output_type": "stream",
          "name": "stdout",
          "text": [
            "+--------+--------+-------------------+---------+----------+\n",
            "|  anomes|   tosse|total_entrevistados|total_mes|percentual|\n",
            "+--------+--------+-------------------+---------+----------+\n",
            "|nov/2020|Ignorado|                988|   381438|      0.26|\n",
            "|nov/2020|     Não|             374980|   381438|     98.31|\n",
            "|nov/2020|Não sabe|                211|   381438|      0.06|\n",
            "|nov/2020|     Sim|               5259|   381438|      1.38|\n",
            "|out/2020|Ignorado|               1145|   380461|      0.30|\n",
            "|out/2020|     Não|             374527|   380461|     98.44|\n",
            "|out/2020|Não sabe|                215|   380461|      0.06|\n",
            "|out/2020|     Sim|               4574|   380461|      1.20|\n",
            "|set/2020|Ignorado|               1416|   387298|      0.37|\n",
            "|set/2020|     Não|             380123|   387298|     98.15|\n",
            "|set/2020|Não sabe|                219|   387298|      0.06|\n",
            "|set/2020|     Sim|               5540|   387298|      1.43|\n",
            "+--------+--------+-------------------+---------+----------+\n",
            "\n"
          ]
        }
      ]
    }
  ],
  "metadata": {
    "colab": {
      "provenance": []
    },
    "kernelspec": {
      "display_name": "Python 3",
      "name": "python3"
    },
    "language_info": {
      "name": "python"
    }
  },
  "nbformat": 4,
  "nbformat_minor": 0
}